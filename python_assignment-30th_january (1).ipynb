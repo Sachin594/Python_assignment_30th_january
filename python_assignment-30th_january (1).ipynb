{
 "cells": [
  {
   "cell_type": "code",
   "execution_count": 12,
   "id": "3e171c36-3b55-4f68-8cf8-12c7cd049fad",
   "metadata": {},
   "outputs": [
    {
     "name": "stdin",
     "output_type": "stream",
     "text": [
      "Enter Your Marks 85\n"
     ]
    },
    {
     "name": "stdout",
     "output_type": "stream",
     "text": [
      "You have got grade B\n"
     ]
    }
   ],
   "source": [
    "## 1.\n",
    "## ANSWER - \n",
    "\n",
    "marks = int(input(\"Enter Your Marks\"))\n",
    "if marks>=0 and marks<=100 :\n",
    "    if marks >90 :\n",
    "        print(\"You have got grade A\")\n",
    "    elif marks >80 and marks <= 90 :\n",
    "        print(\"You have got grade B\")\n",
    "    elif marks >=60 and marks <=80 :\n",
    "        print(\"You have got grade C\")\n",
    "    else : \n",
    "        print(\"You have got Grade D\")\n",
    "else :\n",
    "    print(\"Invalid marks entered\")"
   ]
  },
  {
   "cell_type": "code",
   "execution_count": 14,
   "id": "85a8778c-d263-49f4-922d-62dbeeb269db",
   "metadata": {},
   "outputs": [
    {
     "name": "stdin",
     "output_type": "stream",
     "text": [
      "Enter the cost price of your bike 500000\n"
     ]
    },
    {
     "name": "stdout",
     "output_type": "stream",
     "text": [
      "Road Tax To be paid is 15% which is -  75000.0\n"
     ]
    }
   ],
   "source": [
    "## 2. \n",
    "## ANSWER- \n",
    "\n",
    "\n",
    "cost = int(input(\"Enter the cost price of your bike\"))\n",
    "if cost >=0 and cost <= 50000 :\n",
    "    print(\"Road Tax To be paid is 5% which is - \",cost*0.05)\n",
    "elif cost>50000 and cost <= 100000 :\n",
    "    print(\"Road Tax To be paid is 10% which is - \",cost*0.1)\n",
    "elif cost>100000 :\n",
    "    print(\"Road Tax To be paid is 15% which is - \",cost*0.15)\n",
    "else:\n",
    "    print(\"INVALID COST ENTERED\")"
   ]
  },
  {
   "cell_type": "code",
   "execution_count": 12,
   "id": "8a278c31-cf76-4153-b1b7-808b94ec578e",
   "metadata": {},
   "outputs": [
    {
     "name": "stdin",
     "output_type": "stream",
     "text": [
      "Enter your City jaipur\n"
     ]
    },
    {
     "name": "stdout",
     "output_type": "stream",
     "text": [
      "Monument in Jaipur is Jal Mahal\n"
     ]
    }
   ],
   "source": [
    "## 3.\n",
    "## ANSWER-\n",
    "\n",
    "\n",
    "city = input(\"Enter your City\")\n",
    "if city == \"Delhi\" or city == \"delhi\" :\n",
    "    print(\"Monument in Delhi is Red fort\")\n",
    "elif city == \"Agra\" or city == \"agra\" :\n",
    "    print(\"Monument in Agra is Taj Mahal\")\n",
    "elif city == \"Jaipur\" or city == \"jaipur\"   :\n",
    "    print(\"Monument in Jaipur is Jal Mahal\")\n",
    "else :\n",
    "    print(\"No data available\")"
   ]
  },
  {
   "cell_type": "code",
   "execution_count": 7,
   "id": "493f2142-c585-4112-9fba-ed8e8ba0034d",
   "metadata": {},
   "outputs": [
    {
     "name": "stdin",
     "output_type": "stream",
     "text": [
      "Enter ur no 63\n"
     ]
    },
    {
     "name": "stdout",
     "output_type": "stream",
     "text": [
      "it can be divided 2 times by 3 before it is less than or equal to 10.\n"
     ]
    }
   ],
   "source": [
    "## 4.\n",
    "## ANSWER-\n",
    "\n",
    "\n",
    "n=int(input(\"Enter ur no\"))\n",
    "count=0\n",
    "while n>10:\n",
    "    n=n/3\n",
    "    count=count+1\n",
    "print(\"it can be divided\", count , \"times by 3 before it is less than or equal to 10.\")    "
   ]
  },
  {
   "cell_type": "code",
   "execution_count": 56,
   "id": "78074e8e-1838-4d3b-8c82-ebd2fe103ad3",
   "metadata": {},
   "outputs": [],
   "source": [
    "## 5.\n",
    "## Answer-\n",
    "\n",
    "#  While loop statements in Python are used to repeatedly execute a certain statement as long as the condition provided in the while loop \n",
    "#  statement stays true. While loops let the program control to iterate over a block of code.While loops are used over other loops \n",
    "#  when we need to control the loop using a condition."
   ]
  },
  {
   "cell_type": "code",
   "execution_count": 10,
   "id": "a1cc220e-9d08-46aa-9502-f9ab1cfe2c4a",
   "metadata": {},
   "outputs": [
    {
     "name": "stdout",
     "output_type": "stream",
     "text": [
      "Pattern1\n",
      "* \n",
      "** \n",
      "*** \n",
      "**** \n",
      "***** \n",
      "****** \n",
      "  \n",
      "pattern2\n",
      "****** \n",
      "***** \n",
      "**** \n",
      "*** \n",
      "** \n",
      "* \n",
      "pattern3\n",
      "      *\n",
      "     **\n",
      "    ***\n",
      "   ****\n",
      "  *****\n",
      " ******\n",
      " ******\n",
      "  *****\n",
      "   ****\n",
      "    ***\n",
      "     **\n",
      "      *\n"
     ]
    }
   ],
   "source": [
    "## 6.\n",
    "## Answer-\n",
    "\n",
    "i = 1\n",
    "print(\"Pattern1\")\n",
    "while i <= 6 :\n",
    "    j=1\n",
    "    while j<=i:\n",
    "        print(\"*\",end='')\n",
    "        j=j+1\n",
    "    print(\" \")\n",
    "    i=i+1\n",
    "    \n",
    "print(\"  \")    \n",
    "print(\"pattern2\")\n",
    "k=6\n",
    "while k >=1 :\n",
    "    l=1\n",
    "    while l<=k:\n",
    "        print(\"*\",end='')\n",
    "        l=l+1\n",
    "    k=k-1\n",
    "    print(\" \")\n",
    "    \n",
    "    \n",
    "print(\"pattern3\",) \n",
    "p=1\n",
    "while p<=6:\n",
    "    q=6\n",
    "    while q>=p:\n",
    "        print(\" \",end=\"\")\n",
    "        q=q-1\n",
    "    r=1\n",
    "    while r<=p:\n",
    "        print(\"*\",end=\"\")\n",
    "        r=r+1\n",
    "    print(\"\\r\")\n",
    "    p=p+1\n",
    "\n",
    "m=1\n",
    "while m<=6:\n",
    "    n=1\n",
    "    while n<=m:\n",
    "        print(\" \",end=\"\")\n",
    "        n=n+1\n",
    "    o=6\n",
    "    while o>=m:\n",
    "        print(\"*\",end=\"\")\n",
    "        o=o-1\n",
    "    print(\"\\r\")\n",
    "    m=m+1    "
   ]
  },
  {
   "cell_type": "code",
   "execution_count": 9,
   "id": "508ef6f7-3392-4442-8b2d-8fff98bd9cd1",
   "metadata": {},
   "outputs": [
    {
     "name": "stdout",
     "output_type": "stream",
     "text": [
      "10\n",
      "9\n",
      "8\n",
      "7\n",
      "6\n",
      "5\n",
      "4\n",
      "3\n",
      "2\n",
      "1\n"
     ]
    }
   ],
   "source": [
    "## 7.\n",
    "## Answer - \n",
    "\n",
    "i=10\n",
    "while i>=1:\n",
    "    print(i)\n",
    "    i=i-1"
   ]
  },
  {
   "cell_type": "code",
   "execution_count": 11,
   "id": "0c6aee07-d1d3-41a0-9971-ebbf58dc9dcb",
   "metadata": {},
   "outputs": [
    {
     "name": "stdout",
     "output_type": "stream",
     "text": [
      "10\n",
      "9\n",
      "8\n",
      "7\n",
      "6\n",
      "5\n",
      "4\n",
      "3\n",
      "2\n",
      "1\n"
     ]
    }
   ],
   "source": [
    "## 8.\n",
    "## Answer -\n",
    "\n",
    "\n",
    "j=10\n",
    "while j>=1:\n",
    "    print(j)\n",
    "    j=j-1"
   ]
  },
  {
   "cell_type": "code",
   "execution_count": null,
   "id": "7de61f50-165f-4318-993e-f787aff39063",
   "metadata": {},
   "outputs": [],
   "source": []
  }
 ],
 "metadata": {
  "kernelspec": {
   "display_name": "Python 3 (ipykernel)",
   "language": "python",
   "name": "python3"
  },
  "language_info": {
   "codemirror_mode": {
    "name": "ipython",
    "version": 3
   },
   "file_extension": ".py",
   "mimetype": "text/x-python",
   "name": "python",
   "nbconvert_exporter": "python",
   "pygments_lexer": "ipython3",
   "version": "3.10.8"
  }
 },
 "nbformat": 4,
 "nbformat_minor": 5
}
